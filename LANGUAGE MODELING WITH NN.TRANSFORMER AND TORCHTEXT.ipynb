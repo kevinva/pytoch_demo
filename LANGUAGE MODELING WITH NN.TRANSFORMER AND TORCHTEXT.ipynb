{
 "cells": [
  {
   "cell_type": "code",
   "execution_count": 1,
   "id": "43c767f5",
   "metadata": {},
   "outputs": [],
   "source": [
    "import torch\n",
    "from torch import nn, Tensor\n",
    "from transformer_model import *\n",
    "from utils import *\n",
    "import math\n",
    "\n",
    "from torchtext.datasets import WikiText2\n",
    "from torchtext.data.utils import get_tokenizer\n",
    "from torchtext.vocab import build_vocab_from_iterator"
   ]
  },
  {
   "cell_type": "code",
   "execution_count": 2,
   "id": "3a4da000",
   "metadata": {},
   "outputs": [],
   "source": [
    "train_iter = WikiText2(split = 'train')\n",
    "tokenizer = get_tokenizer('basic_english')\n",
    "vocab = build_vocab_from_iterator(map(tokenizer, train_iter), specials = ['<unk>'])\n",
    "vocab.set_default_index(vocab['<unk>'])\n",
    "\n",
    "def data_process(raw_text_iter: dataset.IterableDataset) -> Tensor:\n",
    "    data = [torch.tensor(vocab(tokenizer(item)), dtype = torch.long) for item in raw_text_iter]\n",
    "    return torch.cat(tuple(filter(lambda t: t.numel() > 0, data)))  # numel() 返回数组中元素的个数"
   ]
  },
  {
   "cell_type": "code",
   "execution_count": 3,
   "id": "22641c62",
   "metadata": {},
   "outputs": [],
   "source": [
    "train_iter, val_iter, test_iter = WikiText2()\n",
    "train_data = data_process(train_iter)\n",
    "val_data = data_process(val_iter)\n",
    "test_data = data_process(test_iter)"
   ]
  },
  {
   "cell_type": "code",
   "execution_count": 4,
   "id": "de9b2b7f",
   "metadata": {},
   "outputs": [],
   "source": [
    "# generate_square_subsequent_mask(10)"
   ]
  },
  {
   "cell_type": "code",
   "execution_count": 5,
   "id": "7f3c2c83",
   "metadata": {},
   "outputs": [],
   "source": [
    "# test_tensor = torch.tensor([1, 2, 3, 4, 5, 6, 7, 8])\n",
    "# test_view = test_tensor.view((2, -1)).t().contiguous()\n",
    "# print(test_view)"
   ]
  },
  {
   "cell_type": "code",
   "execution_count": 6,
   "id": "387eed96",
   "metadata": {},
   "outputs": [],
   "source": [
    "# test_tensor[3] *= 10\n",
    "# print(test_tensor)\n",
    "# print(test_view)"
   ]
  },
  {
   "cell_type": "code",
   "execution_count": 7,
   "id": "48e09add",
   "metadata": {},
   "outputs": [],
   "source": [
    "batch_size = 20\n",
    "eval_batch_size = 10\n",
    "train_data = batchify(train_data, batch_size)\n",
    "val_data = batchify(val_data, batch_size)\n",
    "test_data = batchify(test_data, batch_size)"
   ]
  },
  {
   "cell_type": "code",
   "execution_count": 8,
   "id": "6da0af90",
   "metadata": {},
   "outputs": [],
   "source": [
    "# train_data[1]"
   ]
  },
  {
   "cell_type": "code",
   "execution_count": 9,
   "id": "44f9c71d",
   "metadata": {},
   "outputs": [],
   "source": [
    "# inp, target = get_batch(train_data, 1)"
   ]
  },
  {
   "cell_type": "code",
   "execution_count": 10,
   "id": "d1e45cd0",
   "metadata": {},
   "outputs": [],
   "source": [
    "# inp.size(), target.size()"
   ]
  },
  {
   "cell_type": "code",
   "execution_count": 18,
   "id": "5a34d366",
   "metadata": {},
   "outputs": [],
   "source": [
    "ntokens = len(vocab)  # size of vocabulary\n",
    "emsize = 64  # embedding dimension\n",
    "d_hid = 50  # dimension of the feedforward network model in nn.TransformerEncoder\n",
    "nlayers = 2  # number of nn.TransformerEncoderLayer in nn.TransformerEncoder\n",
    "nhead = 2  # number of heads in nn.MultiheadAttention\n",
    "dropout = 0.2  # dropout probability\n",
    "\n",
    "model = TransformerModel(ntokens, emsize, nhead, d_hid, nlayers, dropout).to(DEVICE)"
   ]
  },
  {
   "cell_type": "code",
   "execution_count": 19,
   "id": "05f4f4db",
   "metadata": {},
   "outputs": [],
   "source": [
    "# model"
   ]
  },
  {
   "cell_type": "code",
   "execution_count": 20,
   "id": "508e4df2",
   "metadata": {},
   "outputs": [],
   "source": [
    "import copy\n",
    "import time"
   ]
  },
  {
   "cell_type": "code",
   "execution_count": 21,
   "id": "7ce89790",
   "metadata": {},
   "outputs": [],
   "source": [
    "criterion = nn.CrossEntropyLoss()\n",
    "lr = 5.0\n",
    "optimizer = torch.optim.SGD(model.parameters(), lr = lr)\n",
    "scheduler = torch.optim.lr_scheduler.StepLR(optimizer, 1.0, gamma = 0.95)"
   ]
  },
  {
   "cell_type": "code",
   "execution_count": 22,
   "id": "d1fd2670",
   "metadata": {},
   "outputs": [],
   "source": [
    "def train(model: nn.Module) -> None:\n",
    "    model.train()\n",
    "    total_loss = 0\n",
    "    log_interval = 200\n",
    "    start_time = time.time()\n",
    "    src_mask = generate_square_subsequent_mask(BPTT).to(DEVICE)\n",
    "    \n",
    "    num_batches = len(train_data) // BPTT\n",
    "    for batch, i in enumerate(range(0, train_data.size(0) - 1, BPTT)):\n",
    "        data, targets = get_batch(train_data, i)\n",
    "        batch_size = data.size(0)\n",
    "        if batch_size != BPTT:\n",
    "            src_mask = src_mask[:batch_size, :batch_size]\n",
    "        output = model(data, src_mask)\n",
    "        loss = criterion(output.view(-1, ntokens), targets)\n",
    "        \n",
    "        optimizer.zero_grad()\n",
    "        loss.backward()\n",
    "        torch.nn.utils.clip_grad_norm_(model.parameters(), 0.5)\n",
    "        optimizer.step()\n",
    "        \n",
    "        total_loss += loss.item()\n",
    "        if batch % log_interval == 0 and batch > 0:\n",
    "            lr = scheduler.get_last_lr()[0]\n",
    "            ms_per_batch = (time.time() - start_time) * 1000 / log_interval\n",
    "            cur_loss = total_loss / log_interval\n",
    "            ppl = math.exp(cur_loss)\n",
    "            print(f'| epoch {epoch:3d} | {batch:5d}/{num_batches:5d} batches | '\n",
    "                  f'lr {lr:02.2f} | ms/batch {ms_per_batch:5.2f} | '\n",
    "                  f'loss {cur_loss:5.2f} | ppl {ppl:8.2f}')\n",
    "            total_loss = 0\n",
    "            start_time = time.time()"
   ]
  },
  {
   "cell_type": "code",
   "execution_count": 23,
   "id": "2c8aa528",
   "metadata": {},
   "outputs": [],
   "source": [
    "def evaluate(model: nn.Module, eval_data: Tensor) -> float:\n",
    "    model.eval()\n",
    "    total_loss = 0\n",
    "    src_mask = generate_square_subsequent_mask(BPTT).to(DEVICE)\n",
    "    with torch.no_grad():\n",
    "        for i in range(0, eval_data.size(0) - 1, BPTT):\n",
    "            data, targets = get_batch(eval_data, i)\n",
    "            batch_size = data.size(0)\n",
    "            if batch_size != BPTT:\n",
    "                src_mask = src_mask[:batch_size, :batch_size]\n",
    "            output = model(data, src_mask)\n",
    "            output_flat = output.view(-1, ntokens)\n",
    "            total_loss += batch_size * criterion(output_flat, targets).item()\n",
    "    return total_loss / (len(eval_data) - 1)"
   ]
  },
  {
   "cell_type": "code",
   "execution_count": 24,
   "id": "0e27bd14",
   "metadata": {},
   "outputs": [
    {
     "name": "stdout",
     "output_type": "stream",
     "text": [
      "| epoch   1 |   200/ 2928 batches | lr 5.00 | ms/batch 273.29 | loss  8.17 | ppl  3529.50\n",
      "| epoch   1 |   400/ 2928 batches | lr 5.00 | ms/batch 274.11 | loss  7.07 | ppl  1174.13\n",
      "| epoch   1 |   600/ 2928 batches | lr 5.00 | ms/batch 274.35 | loss  6.64 | ppl   768.60\n",
      "| epoch   1 |   800/ 2928 batches | lr 5.00 | ms/batch 274.41 | loss  6.46 | ppl   639.30\n",
      "| epoch   1 |  1000/ 2928 batches | lr 5.00 | ms/batch 274.39 | loss  6.33 | ppl   558.75\n",
      "| epoch   1 |  1200/ 2928 batches | lr 5.00 | ms/batch 274.43 | loss  6.27 | ppl   527.43\n",
      "| epoch   1 |  1400/ 2928 batches | lr 5.00 | ms/batch 274.49 | loss  6.21 | ppl   497.50\n",
      "| epoch   1 |  1600/ 2928 batches | lr 5.00 | ms/batch 274.43 | loss  6.19 | ppl   488.17\n",
      "| epoch   1 |  1800/ 2928 batches | lr 5.00 | ms/batch 275.53 | loss  6.11 | ppl   451.42\n",
      "| epoch   1 |  2000/ 2928 batches | lr 5.00 | ms/batch 275.69 | loss  6.11 | ppl   449.81\n",
      "| epoch   1 |  2200/ 2928 batches | lr 5.00 | ms/batch 276.97 | loss  5.99 | ppl   397.43\n",
      "| epoch   1 |  2400/ 2928 batches | lr 5.00 | ms/batch 275.24 | loss  6.04 | ppl   421.52\n",
      "| epoch   1 |  2600/ 2928 batches | lr 5.00 | ms/batch 275.62 | loss  6.02 | ppl   412.10\n",
      "| epoch   1 |  2800/ 2928 batches | lr 5.00 | ms/batch 274.81 | loss  5.96 | ppl   387.56\n",
      "-----------------------------------------------------------------------------------------\n",
      "| end of epoch   1 | time: 837.49s | valid loss  5.92 | valid ppl   372.39\n",
      "-----------------------------------------------------------------------------------------\n",
      "| epoch   2 |   200/ 2928 batches | lr 4.75 | ms/batch 278.94 | loss  5.96 | ppl   388.87\n",
      "| epoch   2 |   400/ 2928 batches | lr 4.75 | ms/batch 274.77 | loss  5.96 | ppl   387.42\n",
      "| epoch   2 |   600/ 2928 batches | lr 4.75 | ms/batch 274.86 | loss  5.81 | ppl   333.83\n",
      "| epoch   2 |   800/ 2928 batches | lr 4.75 | ms/batch 276.00 | loss  5.83 | ppl   340.49\n",
      "| epoch   2 |  1000/ 2928 batches | lr 4.75 | ms/batch 276.28 | loss  5.79 | ppl   326.26\n",
      "| epoch   2 |  1200/ 2928 batches | lr 4.75 | ms/batch 277.76 | loss  5.80 | ppl   331.38\n",
      "| epoch   2 |  1400/ 2928 batches | lr 4.75 | ms/batch 277.46 | loss  5.80 | ppl   330.11\n",
      "| epoch   2 |  1600/ 2928 batches | lr 4.75 | ms/batch 276.22 | loss  5.82 | ppl   336.12\n",
      "| epoch   2 |  1800/ 2928 batches | lr 4.75 | ms/batch 276.11 | loss  5.76 | ppl   318.45\n",
      "| epoch   2 |  2000/ 2928 batches | lr 4.75 | ms/batch 276.07 | loss  5.78 | ppl   322.30\n",
      "| epoch   2 |  2200/ 2928 batches | lr 4.75 | ms/batch 276.06 | loss  5.67 | ppl   290.73\n",
      "| epoch   2 |  2400/ 2928 batches | lr 4.75 | ms/batch 276.08 | loss  5.75 | ppl   314.87\n",
      "| epoch   2 |  2600/ 2928 batches | lr 4.75 | ms/batch 276.21 | loss  5.75 | ppl   314.69\n",
      "| epoch   2 |  2800/ 2928 batches | lr 4.75 | ms/batch 276.10 | loss  5.69 | ppl   296.83\n",
      "-----------------------------------------------------------------------------------------\n",
      "| end of epoch   2 | time: 841.49s | valid loss  5.69 | valid ppl   296.42\n",
      "-----------------------------------------------------------------------------------------\n",
      "| epoch   3 |   200/ 2928 batches | lr 4.51 | ms/batch 277.41 | loss  5.73 | ppl   307.41\n",
      "| epoch   3 |   400/ 2928 batches | lr 4.51 | ms/batch 276.02 | loss  5.75 | ppl   313.07\n",
      "| epoch   3 |   600/ 2928 batches | lr 4.51 | ms/batch 276.06 | loss  5.58 | ppl   264.81\n",
      "| epoch   3 |   800/ 2928 batches | lr 4.51 | ms/batch 276.06 | loss  5.63 | ppl   279.93\n",
      "| epoch   3 |  1000/ 2928 batches | lr 4.51 | ms/batch 276.13 | loss  5.59 | ppl   268.07\n",
      "| epoch   3 |  1200/ 2928 batches | lr 4.51 | ms/batch 276.12 | loss  5.61 | ppl   274.19\n",
      "| epoch   3 |  1400/ 2928 batches | lr 4.51 | ms/batch 276.19 | loss  5.62 | ppl   276.09\n",
      "| epoch   3 |  1600/ 2928 batches | lr 4.51 | ms/batch 276.07 | loss  5.65 | ppl   283.54\n",
      "| epoch   3 |  1800/ 2928 batches | lr 4.51 | ms/batch 5048.33 | loss  5.60 | ppl   269.54\n",
      "| epoch   3 |  2000/ 2928 batches | lr 4.51 | ms/batch 398.43 | loss  5.61 | ppl   272.91\n",
      "| epoch   3 |  2200/ 2928 batches | lr 4.51 | ms/batch 398.92 | loss  5.49 | ppl   242.47\n",
      "| epoch   3 |  2400/ 2928 batches | lr 4.51 | ms/batch 526.59 | loss  5.59 | ppl   268.42\n",
      "| epoch   3 |  2600/ 2928 batches | lr 4.51 | ms/batch 400.13 | loss  5.59 | ppl   268.07\n",
      "| epoch   3 |  2800/ 2928 batches | lr 4.51 | ms/batch 273.63 | loss  5.53 | ppl   253.09\n",
      "-----------------------------------------------------------------------------------------\n",
      "| end of epoch   3 | time: 1970.77s | valid loss  5.67 | valid ppl   289.03\n",
      "-----------------------------------------------------------------------------------------\n",
      "| epoch   4 |   200/ 2928 batches | lr 4.29 | ms/batch 403.34 | loss  5.58 | ppl   264.76\n",
      "| epoch   4 |   400/ 2928 batches | lr 4.29 | ms/batch 401.41 | loss  5.60 | ppl   270.26\n",
      "| epoch   4 |   600/ 2928 batches | lr 4.29 | ms/batch 401.21 | loss  5.43 | ppl   229.06\n",
      "| epoch   4 |   800/ 2928 batches | lr 4.29 | ms/batch 402.28 | loss  5.50 | ppl   244.08\n",
      "| epoch   4 |  1000/ 2928 batches | lr 4.29 | ms/batch 527.64 | loss  5.46 | ppl   235.20\n",
      "| epoch   4 |  1200/ 2928 batches | lr 4.29 | ms/batch 400.78 | loss  5.49 | ppl   242.79\n",
      "| epoch   4 |  1400/ 2928 batches | lr 4.29 | ms/batch 401.06 | loss  5.50 | ppl   244.93\n",
      "| epoch   4 |  1600/ 2928 batches | lr 4.29 | ms/batch 400.85 | loss  5.52 | ppl   250.73\n",
      "| epoch   4 |  1800/ 2928 batches | lr 4.29 | ms/batch 400.89 | loss  5.49 | ppl   241.13\n",
      "| epoch   4 |  2000/ 2928 batches | lr 4.29 | ms/batch 401.01 | loss  5.50 | ppl   244.22\n",
      "| epoch   4 |  2200/ 2928 batches | lr 4.29 | ms/batch 400.90 | loss  5.36 | ppl   213.39\n",
      "| epoch   4 |  2400/ 2928 batches | lr 4.29 | ms/batch 528.03 | loss  5.47 | ppl   237.15\n",
      "| epoch   4 |  2600/ 2928 batches | lr 4.29 | ms/batch 400.82 | loss  5.47 | ppl   238.64\n",
      "| epoch   4 |  2800/ 2928 batches | lr 4.29 | ms/batch 400.90 | loss  5.42 | ppl   225.11\n",
      "-----------------------------------------------------------------------------------------\n",
      "| end of epoch   4 | time: 1266.91s | valid loss  5.62 | valid ppl   274.56\n",
      "-----------------------------------------------------------------------------------------\n",
      "| epoch   5 |   200/ 2928 batches | lr 4.07 | ms/batch 402.45 | loss  5.46 | ppl   235.11\n",
      "| epoch   5 |   400/ 2928 batches | lr 4.07 | ms/batch 528.11 | loss  5.49 | ppl   242.72\n",
      "| epoch   5 |   600/ 2928 batches | lr 4.07 | ms/batch 401.05 | loss  5.32 | ppl   204.47\n",
      "| epoch   5 |   800/ 2928 batches | lr 4.07 | ms/batch 401.14 | loss  5.39 | ppl   218.81\n",
      "| epoch   5 |  1000/ 2928 batches | lr 4.07 | ms/batch 400.93 | loss  5.36 | ppl   211.91\n",
      "| epoch   5 |  1200/ 2928 batches | lr 4.07 | ms/batch 401.20 | loss  5.39 | ppl   219.01\n",
      "| epoch   5 |  1400/ 2928 batches | lr 4.07 | ms/batch 401.17 | loss  5.41 | ppl   222.88\n",
      "| epoch   5 |  1600/ 2928 batches | lr 4.07 | ms/batch 401.10 | loss  5.42 | ppl   226.76\n",
      "| epoch   5 |  1800/ 2928 batches | lr 4.07 | ms/batch 527.97 | loss  5.39 | ppl   218.36\n",
      "| epoch   5 |  2000/ 2928 batches | lr 4.07 | ms/batch 400.97 | loss  5.40 | ppl   222.40\n",
      "| epoch   5 |  2200/ 2928 batches | lr 4.07 | ms/batch 400.97 | loss  5.27 | ppl   194.10\n",
      "| epoch   5 |  2400/ 2928 batches | lr 4.07 | ms/batch 400.89 | loss  5.37 | ppl   214.48\n",
      "| epoch   5 |  2600/ 2928 batches | lr 4.07 | ms/batch 401.11 | loss  5.38 | ppl   216.44\n",
      "| epoch   5 |  2800/ 2928 batches | lr 4.07 | ms/batch 401.14 | loss  5.32 | ppl   203.86\n",
      "-----------------------------------------------------------------------------------------\n",
      "| end of epoch   5 | time: 1292.38s | valid loss  5.62 | valid ppl   276.18\n",
      "-----------------------------------------------------------------------------------------\n"
     ]
    }
   ],
   "source": [
    "best_val_loss = float('inf')\n",
    "epochs = 5\n",
    "best_model = None\n",
    "\n",
    "for epoch in range(1, epochs + 1):\n",
    "    epoch_start_time = time.time()\n",
    "    train(model)\n",
    "    val_loss = evaluate(model, val_data)\n",
    "    val_ppl = math.exp(val_loss)\n",
    "    elapsed = time.time() - epoch_start_time\n",
    "    print('-' * 89)\n",
    "    print(f'| end of epoch {epoch:3d} | time: {elapsed:5.2f}s | '\n",
    "          f'valid loss {val_loss:5.2f} | valid ppl {val_ppl:8.2f}')\n",
    "    print('-' * 89)\n",
    "    \n",
    "    if val_loss < best_val_loss:\n",
    "        best_val_loss = val_loss\n",
    "        best_model = copy.deepcopy(model)\n",
    "    scheduler.step()"
   ]
  },
  {
   "cell_type": "code",
   "execution_count": null,
   "id": "09f77f75",
   "metadata": {},
   "outputs": [],
   "source": []
  }
 ],
 "metadata": {
  "kernelspec": {
   "display_name": "Python 3 (ipykernel)",
   "language": "python",
   "name": "python3"
  },
  "language_info": {
   "codemirror_mode": {
    "name": "ipython",
    "version": 3
   },
   "file_extension": ".py",
   "mimetype": "text/x-python",
   "name": "python",
   "nbconvert_exporter": "python",
   "pygments_lexer": "ipython3",
   "version": "3.9.7"
  }
 },
 "nbformat": 4,
 "nbformat_minor": 5
}
