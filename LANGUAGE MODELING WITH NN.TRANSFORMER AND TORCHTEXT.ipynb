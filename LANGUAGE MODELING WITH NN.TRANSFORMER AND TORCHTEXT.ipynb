{
 "cells": [
  {
   "cell_type": "code",
   "execution_count": 1,
   "id": "43c767f5",
   "metadata": {},
   "outputs": [],
   "source": [
    "import torch\n",
    "from torch import nn, Tensor\n",
    "from transformer_model import *\n",
    "from utils import *\n",
    "import math\n",
    "\n",
    "from torchtext.datasets import WikiText2\n",
    "from torchtext.data.utils import get_tokenizer\n",
    "from torchtext.vocab import build_vocab_from_iterator"
   ]
  },
  {
   "cell_type": "code",
   "execution_count": 2,
   "id": "3a4da000",
   "metadata": {},
   "outputs": [],
   "source": [
    "train_iter = WikiText2(split = 'train')\n",
    "tokenizer = get_tokenizer('basic_english')\n",
    "vocab = build_vocab_from_iterator(map(tokenizer, train_iter), specials = ['<unk>'])\n",
    "vocab.set_default_index(vocab['<unk>'])\n",
    "\n",
    "def data_process(raw_text_iter: dataset.IterableDataset) -> Tensor:\n",
    "    data = [torch.tensor(vocab(tokenizer(item)), dtype = torch.long) for item in raw_text_iter]\n",
    "    return torch.cat(tuple(filter(lambda t: t.numel() > 0, data)))  # numel() 返回数组中元素的个数"
   ]
  },
  {
   "cell_type": "code",
   "execution_count": 3,
   "id": "4ea9d7d7",
   "metadata": {},
   "outputs": [],
   "source": [
    "train_iter, val_iter, test_iter = WikiText2()\n",
    "train_data = data_process(train_iter)\n",
    "val_data = data_process(val_iter)\n",
    "test_data = data_process(test_iter)"
   ]
  },
  {
   "cell_type": "code",
   "execution_count": 4,
   "id": "c4b35ef7",
   "metadata": {},
   "outputs": [],
   "source": [
    "# generate_square_subsequent_mask(10)"
   ]
  },
  {
   "cell_type": "code",
   "execution_count": 5,
   "id": "2b69aab0",
   "metadata": {},
   "outputs": [],
   "source": [
    "# test_tensor = torch.tensor([1, 2, 3, 4, 5, 6, 7, 8])\n",
    "# test_view = test_tensor.view((2, -1)).t().contiguous()\n",
    "# print(test_view)"
   ]
  },
  {
   "cell_type": "code",
   "execution_count": 6,
   "id": "108ec04c",
   "metadata": {},
   "outputs": [],
   "source": [
    "# test_tensor[3] *= 10\n",
    "# print(test_tensor)\n",
    "# print(test_view)"
   ]
  },
  {
   "cell_type": "code",
   "execution_count": 7,
   "id": "5b292a40",
   "metadata": {},
   "outputs": [],
   "source": [
    "batch_size = 20\n",
    "eval_batch_size = 10\n",
    "train_data = batchify(train_data, batch_size)\n",
    "val_data = batchify(val_data, batch_size)\n",
    "test_data = batchify(test_data, batch_size)"
   ]
  },
  {
   "cell_type": "code",
   "execution_count": 8,
   "id": "7a865083",
   "metadata": {},
   "outputs": [],
   "source": [
    "# train_data[1]"
   ]
  },
  {
   "cell_type": "code",
   "execution_count": 9,
   "id": "38779a27",
   "metadata": {},
   "outputs": [],
   "source": [
    "# inp, target = get_batch(train_data, 1)"
   ]
  },
  {
   "cell_type": "code",
   "execution_count": 10,
   "id": "0f3aac5b",
   "metadata": {},
   "outputs": [],
   "source": [
    "# inp.size(), target.size()"
   ]
  },
  {
   "cell_type": "code",
   "execution_count": 11,
   "id": "914f18a0",
   "metadata": {},
   "outputs": [],
   "source": [
    "ntokens = len(vocab)  # size of vocabulary\n",
    "emsize = 200  # embedding dimension\n",
    "d_hid = 200  # dimension of the feedforward network model in nn.TransformerEncoder\n",
    "nlayers = 2  # number of nn.TransformerEncoderLayer in nn.TransformerEncoder\n",
    "nhead = 2  # number of heads in nn.MultiheadAttention\n",
    "dropout = 0.2  # dropout probability\n",
    "\n",
    "model = TransformerModel(ntokens, emsize, nhead, d_hid, nlayers, dropout).to(DEVICE)"
   ]
  },
  {
   "cell_type": "code",
   "execution_count": 12,
   "id": "56b9d59f",
   "metadata": {},
   "outputs": [],
   "source": [
    "# model"
   ]
  },
  {
   "cell_type": "code",
   "execution_count": 13,
   "id": "f8f33113",
   "metadata": {},
   "outputs": [],
   "source": [
    "import copy\n",
    "import time"
   ]
  },
  {
   "cell_type": "code",
   "execution_count": 14,
   "id": "2b18c6c9",
   "metadata": {},
   "outputs": [],
   "source": [
    "criterion = nn.CrossEntropyLoss()\n",
    "lr = 5.0\n",
    "optimizer = torch.optim.SGD(model.parameters(), lr = lr)\n",
    "scheduler = torch.optim.lr_scheduler.StepLR(optimizer, 1.0, gamma = 0.95)"
   ]
  },
  {
   "cell_type": "code",
   "execution_count": 15,
   "id": "bf08d269",
   "metadata": {},
   "outputs": [],
   "source": [
    "def train(model: nn.Module) -> None:\n",
    "    model.train()\n",
    "    total_loss = 0\n",
    "    log_interval = 200\n",
    "    start_time = time.time()\n",
    "    src_mask = generate_square_subsequent_mask(BPTT).to(DEVICE)\n",
    "    \n",
    "    num_batches = len(train_data) // BPTT\n",
    "    for batch, i in enumerate(range(0, train_data.size(0) - 1, BPTT)):\n",
    "        data, targets = get_batch(train_data, i)\n",
    "        batch_size = data.size(0)\n",
    "        if batch_size != BPTT:\n",
    "            src_mask = src_mask[:batch_size, :batch_size]\n",
    "        output = model(data, src_mask)\n",
    "        loss = criterion(output.view(-1, ntokens), targets)\n",
    "        \n",
    "        optimizer.zero_grad()\n",
    "        loss.backward()\n",
    "        torch.nn.utils.clip_grad_norm_(model.parameters(), 0.5)\n",
    "        optimizer.step()\n",
    "        \n",
    "        total_loss += loss.item()\n",
    "        if batch % log_interval == 0 and batch > 0:\n",
    "            lr = scheduler.get_last_lr()[0]\n",
    "            ms_per_batch = (time.time() - start_time) * 1000 / log_interval\n",
    "            cur_loss = total_loss / log_interval\n",
    "            ppl = math.exp(cur_loss)\n",
    "            print(f'| epoch {epoch:3d} | {batch:5d}/{num_batches:5d} batches | '\n",
    "                  f'lr {lr:02.2f} | ms/batch {ms_per_batch:5.2f} | '\n",
    "                  f'loss {cur_loss:5.2f} | ppl {ppl:8.2f}')\n",
    "            total_loss = 0\n",
    "            start_time = time.time()"
   ]
  },
  {
   "cell_type": "code",
   "execution_count": 16,
   "id": "94dcca42",
   "metadata": {},
   "outputs": [],
   "source": [
    "def evaluate(model: nn.Module, eval_data: Tensor) -> float:\n",
    "    model.eval()\n",
    "    total_loss = 0\n",
    "    src_mask = generate_square_subsequent_mask(BPTT).to(DEVICE)\n",
    "    with torch.no_grad():\n",
    "        for i in ragne(0, eval_data.size(0) - 1, BPTT):\n",
    "            data, targets = get_batch(eval_data, i)\n",
    "            batch_size = data.size(0)\n",
    "            if batch_size != BPTT:\n",
    "                src_mask = src_mask[:batch_size, :batch_size]\n",
    "            output = model(data, src_mask)\n",
    "            output_flat = output.view(-1, ntokens)\n",
    "            total_loss += batch_size * criterion(output_flat, targets).item()\n",
    "    return total_loss / (len(eval_data) - 1)"
   ]
  },
  {
   "cell_type": "code",
   "execution_count": null,
   "id": "ce6b822a",
   "metadata": {},
   "outputs": [
    {
     "name": "stdout",
     "output_type": "stream",
     "text": [
      "| epoch   1 |   200/ 2928 batches | lr 5.00 | ms/batch 717.59 | loss  8.17 | ppl  3526.55\n",
      "| epoch   1 |   400/ 2928 batches | lr 5.00 | ms/batch 711.54 | loss  6.91 | ppl   997.61\n",
      "| epoch   1 |   600/ 2928 batches | lr 5.00 | ms/batch 708.45 | loss  6.48 | ppl   649.93\n",
      "| epoch   1 |   800/ 2928 batches | lr 5.00 | ms/batch 709.21 | loss  6.31 | ppl   551.47\n",
      "| epoch   1 |  1000/ 2928 batches | lr 5.00 | ms/batch 708.91 | loss  6.19 | ppl   488.58\n",
      "| epoch   1 |  1200/ 2928 batches | lr 5.00 | ms/batch 708.40 | loss  6.16 | ppl   473.17\n",
      "| epoch   1 |  1400/ 2928 batches | lr 5.00 | ms/batch 707.83 | loss  6.12 | ppl   453.25\n",
      "| epoch   1 |  1600/ 2928 batches | lr 5.00 | ms/batch 708.26 | loss  6.11 | ppl   449.57\n",
      "| epoch   1 |  1800/ 2928 batches | lr 5.00 | ms/batch 5333.09 | loss  6.03 | ppl   415.19\n",
      "| epoch   1 |  2000/ 2928 batches | lr 5.00 | ms/batch 709.08 | loss  6.02 | ppl   410.99\n",
      "| epoch   1 |  2200/ 2928 batches | lr 5.00 | ms/batch 711.16 | loss  5.90 | ppl   363.89\n"
     ]
    }
   ],
   "source": [
    "best_val_loss = float('inf')\n",
    "epochs = 5\n",
    "best_model = None\n",
    "\n",
    "for epoch in range(1, epochs + 1):\n",
    "    epoch_start_time = time.time()\n",
    "    train(model)\n",
    "    val_loss = evaluate(model, val_data)\n",
    "    val_ppl = math.exp(val_loss)\n",
    "    elapsed = time.time() - epoch_start_time\n",
    "    print('-' * 89)\n",
    "    print(f'| end of epoch {epoch:3d} | time: {elapsed:5.2f}s | '\n",
    "          f'valid loss {val_loss:5.2f} | valid ppl {val_ppl:8.2f}')\n",
    "    print('-' * 89)\n",
    "    \n",
    "    if val_loss < best_val_loss:\n",
    "        best_val_loss = val_loss\n",
    "        best_model = copy.deepcopy(model)\n",
    "    scheduler.step()"
   ]
  },
  {
   "cell_type": "code",
   "execution_count": null,
   "id": "ae53fd0a",
   "metadata": {},
   "outputs": [],
   "source": []
  }
 ],
 "metadata": {
  "kernelspec": {
   "display_name": "Python 3 (ipykernel)",
   "language": "python",
   "name": "python3"
  },
  "language_info": {
   "codemirror_mode": {
    "name": "ipython",
    "version": 3
   },
   "file_extension": ".py",
   "mimetype": "text/x-python",
   "name": "python",
   "nbconvert_exporter": "python",
   "pygments_lexer": "ipython3",
   "version": "3.9.7"
  }
 },
 "nbformat": 4,
 "nbformat_minor": 5
}
