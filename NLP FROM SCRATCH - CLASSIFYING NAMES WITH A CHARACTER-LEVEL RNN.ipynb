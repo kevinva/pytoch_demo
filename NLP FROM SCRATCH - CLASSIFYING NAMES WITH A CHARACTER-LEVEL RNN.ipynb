{
 "cells": [
  {
   "cell_type": "code",
   "execution_count": 1,
   "id": "2f6cd710",
   "metadata": {},
   "outputs": [],
   "source": [
    "from __future__ import unicode_literals, print_function, division\n",
    "from io import open\n",
    "import glob\n",
    "import os\n",
    "from utils import *\n",
    "from rnn import *"
   ]
  },
  {
   "cell_type": "code",
   "execution_count": 2,
   "id": "0d483c66",
   "metadata": {},
   "outputs": [],
   "source": [
    "def findFiles(path):\n",
    "    return glob.glob(path)"
   ]
  },
  {
   "cell_type": "code",
   "execution_count": 3,
   "id": "1b705188",
   "metadata": {},
   "outputs": [
    {
     "name": "stdout",
     "output_type": "stream",
     "text": [
      "['data/data/names/Czech.txt', 'data/data/names/German.txt', 'data/data/names/Arabic.txt', 'data/data/names/Japanese.txt', 'data/data/names/Chinese.txt', 'data/data/names/Vietnamese.txt', 'data/data/names/Russian.txt', 'data/data/names/French.txt', 'data/data/names/Irish.txt', 'data/data/names/English.txt', 'data/data/names/Spanish.txt', 'data/data/names/Greek.txt', 'data/data/names/Italian.txt', 'data/data/names/Portuguese.txt', 'data/data/names/Scottish.txt', 'data/data/names/Dutch.txt', 'data/data/names/Korean.txt', 'data/data/names/Polish.txt']\n"
     ]
    }
   ],
   "source": [
    "print(findFiles('data/data/names/*.txt'))"
   ]
  },
  {
   "cell_type": "code",
   "execution_count": 4,
   "id": "55036afb",
   "metadata": {},
   "outputs": [
    {
     "name": "stdout",
     "output_type": "stream",
     "text": [
      "Slusarski\n"
     ]
    }
   ],
   "source": [
    "print(unicodeToAscii('Ślusàrski'))"
   ]
  },
  {
   "cell_type": "code",
   "execution_count": 5,
   "id": "74a70f9f",
   "metadata": {},
   "outputs": [],
   "source": [
    "category_lines = {}\n",
    "all_categories = []"
   ]
  },
  {
   "cell_type": "code",
   "execution_count": 6,
   "id": "9eded94a",
   "metadata": {},
   "outputs": [],
   "source": [
    "def readLines(filename):\n",
    "    lines = open(filename, encoding = 'utf-8').read().strip().split('\\n')\n",
    "    return [unicodeToAscii(line) for line in lines] "
   ]
  },
  {
   "cell_type": "code",
   "execution_count": 7,
   "id": "24e0c51a",
   "metadata": {},
   "outputs": [],
   "source": [
    "for filename in findFiles('data/data/names/*.txt'):\n",
    "    category = os.path.splitext(os.path.basename(filename))[0]\n",
    "    all_categories.append(category)\n",
    "    lines = readLines(filename)\n",
    "    category_lines[category] = lines"
   ]
  },
  {
   "cell_type": "code",
   "execution_count": 8,
   "id": "48e0f1f6",
   "metadata": {},
   "outputs": [],
   "source": [
    "n_categories = len(all_categories)"
   ]
  },
  {
   "cell_type": "code",
   "execution_count": 9,
   "id": "8e98962e",
   "metadata": {},
   "outputs": [],
   "source": [
    "# category_lines['Chinese']"
   ]
  },
  {
   "cell_type": "code",
   "execution_count": 10,
   "id": "8188b586",
   "metadata": {},
   "outputs": [],
   "source": [
    "import torch"
   ]
  },
  {
   "cell_type": "code",
   "execution_count": 11,
   "id": "71902d9f",
   "metadata": {},
   "outputs": [],
   "source": [
    "def letterToIndex(letter):\n",
    "    return ALL_LETTERS.find(letter)"
   ]
  },
  {
   "cell_type": "code",
   "execution_count": 12,
   "id": "57bbbc7a",
   "metadata": {},
   "outputs": [],
   "source": [
    "def letterToTensor(letter):\n",
    "    tensor = torch.zeros(1, N_LETTERS)\n",
    "    tensor[0][letterToIndex(letter)] = 1\n",
    "    return tensor"
   ]
  },
  {
   "cell_type": "code",
   "execution_count": 13,
   "id": "9d91ac46",
   "metadata": {},
   "outputs": [],
   "source": [
    "def lineToTensor(line):\n",
    "    tensor = torch.zeros(len(line), 1, N_LETTERS)\n",
    "    for li, letter in enumerate(line):\n",
    "        tensor[li][0][letterToIndex(letter)] = 1\n",
    "    return tensor"
   ]
  },
  {
   "cell_type": "code",
   "execution_count": 14,
   "id": "7433a656",
   "metadata": {},
   "outputs": [],
   "source": [
    "# print(letterToTensor('J'))"
   ]
  },
  {
   "cell_type": "code",
   "execution_count": 15,
   "id": "54a6f1f7",
   "metadata": {},
   "outputs": [],
   "source": [
    "# print(lineToTensor('Jones'))"
   ]
  },
  {
   "cell_type": "code",
   "execution_count": 16,
   "id": "98d7e0f6",
   "metadata": {},
   "outputs": [],
   "source": [
    "n_hidden = 128\n",
    "rnn = RNN(N_LETTERS, n_hidden, n_categories)"
   ]
  },
  {
   "cell_type": "code",
   "execution_count": 17,
   "id": "634c84c0",
   "metadata": {},
   "outputs": [
    {
     "name": "stdout",
     "output_type": "stream",
     "text": [
      "torch.Size([1, 57])\n"
     ]
    }
   ],
   "source": [
    "input = letterToTensor('A')\n",
    "print(input.size())\n",
    "hidden = torch.zeros(1, n_hidden)\n",
    "output, next_hidden = rnn(input, hidden)"
   ]
  },
  {
   "cell_type": "code",
   "execution_count": 18,
   "id": "72d483d9",
   "metadata": {},
   "outputs": [
    {
     "name": "stdout",
     "output_type": "stream",
     "text": [
      "torch.Size([1, 18])\n",
      "torch.Size([1, 128])\n"
     ]
    }
   ],
   "source": [
    "print(output.size())\n",
    "print(next_hidden.size())"
   ]
  },
  {
   "cell_type": "code",
   "execution_count": 19,
   "id": "85c8a832",
   "metadata": {},
   "outputs": [],
   "source": [
    "input = lineToTensor('Albert')\n",
    "hidden = torch.zeros(1, n_hidden)\n",
    "output, next_hidden = rnn(input[0], hidden)"
   ]
  },
  {
   "cell_type": "code",
   "execution_count": 20,
   "id": "6f341b94",
   "metadata": {},
   "outputs": [
    {
     "name": "stdout",
     "output_type": "stream",
     "text": [
      "tensor([[-2.8405, -2.9463, -2.9774, -2.9065, -2.8635, -2.9387, -2.9182, -2.8908,\n",
      "         -2.9721, -2.7553, -2.8425, -2.8744, -2.8456, -2.8385, -2.9365, -2.9672,\n",
      "         -2.8751, -2.8671]], grad_fn=<LogSoftmaxBackward0>)\n"
     ]
    }
   ],
   "source": [
    "print(output)"
   ]
  },
  {
   "cell_type": "code",
   "execution_count": 21,
   "id": "df6f2d41",
   "metadata": {},
   "outputs": [
    {
     "name": "stdout",
     "output_type": "stream",
     "text": [
      "('English', 9)\n"
     ]
    }
   ],
   "source": [
    "print(categoryFromOutput(output, all_categories))"
   ]
  },
  {
   "cell_type": "code",
   "execution_count": 22,
   "id": "b7965a2f",
   "metadata": {},
   "outputs": [
    {
     "name": "stdout",
     "output_type": "stream",
     "text": [
      "category = Japanese / line = Jimbo\n",
      "category = Italian / line = Verona\n",
      "category = German / line = Carver\n",
      "category = English / line = Emsden\n",
      "category = Portuguese / line = Freitas\n",
      "category = English / line = Frost\n",
      "category = French / line = Vipond\n",
      "category = Russian / line = Zhedrinsky\n",
      "category = Vietnamese / line = Ly\n",
      "category = Czech / line = Ransom\n"
     ]
    }
   ],
   "source": [
    "import random\n",
    "\n",
    "def randomChoice(l):\n",
    "    return l[random.randint(0, len(l) - 1)]\n",
    "\n",
    "def randomTrainingExample():\n",
    "    category = randomChoice(all_categories)\n",
    "    line = randomChoice(category_lines[category])\n",
    "    category_tensor = torch.tensor([all_categories.index(category)], dtype=torch.long)\n",
    "    line_tensor = lineToTensor(line)\n",
    "    return category, line, category_tensor, line_tensor\n",
    "\n",
    "for i in range(10):\n",
    "    category, line, category_tensor, line_tensor = randomTrainingExample()\n",
    "    print('category =', category, '/ line =', line)"
   ]
  },
  {
   "cell_type": "code",
   "execution_count": 23,
   "id": "c0647e21",
   "metadata": {},
   "outputs": [],
   "source": [
    "learning_rate = 0.001\n",
    "criterion = nn.NLLLoss()"
   ]
  },
  {
   "cell_type": "code",
   "execution_count": 24,
   "id": "e4c697f2",
   "metadata": {},
   "outputs": [],
   "source": [
    "def train(category_tensor, line_tensor):\n",
    "    hidden = rnn.initHidden()\n",
    "    \n",
    "    rnn.zero_grad()\n",
    "    \n",
    "    for i in range(line_tensor.size()[0]):\n",
    "        output, hidden = rnn(line_tensor[i], hidden)\n",
    "    \n",
    "    loss = criterion(output, category_tensor)\n",
    "    loss.backward()\n",
    "    \n",
    "    for p in rnn.parameters():\n",
    "        p.data.add_(p.grad.data, alpha = -learning_rate)\n",
    "        \n",
    "    return output, loss.item()"
   ]
  },
  {
   "cell_type": "code",
   "execution_count": 25,
   "id": "288cd61b",
   "metadata": {},
   "outputs": [],
   "source": [
    "import time\n",
    "import math"
   ]
  },
  {
   "cell_type": "code",
   "execution_count": 26,
   "id": "2a75f0f1",
   "metadata": {},
   "outputs": [
    {
     "name": "stdout",
     "output_type": "stream",
     "text": [
      "5000 5% (0m 3s) 2.8955 Yakutin / English ✗ (Russian)\n",
      "10000 10% (0m 6s) 2.8236 Trang / Chinese ✗ (Vietnamese)\n",
      "15000 15% (0m 10s) 2.3458 Varvitsiotes / Greek ✓\n",
      "20000 20% (0m 13s) 2.6527 Deforest / Greek ✗ (French)\n",
      "25000 25% (0m 16s) 2.6780 Danas / Arabic ✗ (Greek)\n",
      "30000 30% (0m 20s) 2.3572 Victor / English ✓\n",
      "35000 35% (0m 23s) 1.7383 Vuu / Chinese ✗ (Vietnamese)\n",
      "40000 40% (0m 27s) 2.6660 Schnoor / Scottish ✗ (German)\n",
      "45000 45% (0m 30s) 3.7682 Shazzo / Arabic ✗ (Russian)\n",
      "50000 50% (0m 33s) 1.7480 Milano / Italian ✓\n",
      "55000 55% (0m 37s) 1.9932 Shiraishi / Polish ✗ (Japanese)\n",
      "60000 60% (0m 40s) 0.4878 Velikorussov / Russian ✓\n",
      "65000 65% (0m 44s) 1.3218 So / Korean ✓\n",
      "70000 70% (0m 47s) 1.5844 Kang / Chinese ✗ (Korean)\n",
      "75000 75% (0m 50s) 2.1862 Olson / Scottish ✗ (English)\n",
      "80000 80% (0m 54s) 0.5501 Winogrodzki / Polish ✓\n",
      "85000 85% (0m 57s) 2.7135 Jamieson / Russian ✗ (English)\n",
      "90000 90% (1m 1s) 2.8560 Forshaw / French ✗ (English)\n",
      "95000 95% (1m 4s) 0.2441 Molotkov / Russian ✓\n",
      "100000 100% (1m 7s) 0.8685 Pribylov / Russian ✓\n"
     ]
    }
   ],
   "source": [
    "n_iters = 100000\n",
    "print_every = 5000\n",
    "plot_every = 1000\n",
    "\n",
    "current_loss = 0\n",
    "all_losses = []\n",
    "\n",
    "def timeSince(since):\n",
    "    now = time.time()\n",
    "    s = now - since\n",
    "    m = math.floor(s / 60)\n",
    "    s -= m * 60\n",
    "    return '%dm %ds' % (m, s)\n",
    "\n",
    "start = time.time()\n",
    "\n",
    "for iter in range(1, n_iters + 1):\n",
    "    category, line, category_tensor, line_tensor = randomTrainingExample()\n",
    "    output, loss = train(category_tensor, line_tensor)\n",
    "    current_loss += loss\n",
    "    \n",
    "    if iter % print_every == 0:\n",
    "        guess, guess_i = categoryFromOutput(output, all_categories)\n",
    "        correct = '✓' if guess == category else '✗ (%s)' % category\n",
    "        print('%d %d%% (%s) %.4f %s / %s %s' % (iter, iter / n_iters * 100, timeSince(start), loss, line, guess, correct))\n",
    "        \n",
    "    if iter % plot_every == 0:\n",
    "        all_losses.append(current_loss / plot_every)\n",
    "        current_loss = 0"
   ]
  },
  {
   "cell_type": "code",
   "execution_count": 27,
   "id": "a4410952",
   "metadata": {},
   "outputs": [],
   "source": [
    "import matplotlib.pyplot as plt\n",
    "import matplotlib.ticker as ticker\n",
    "\n",
    "%matplotlib inline"
   ]
  },
  {
   "cell_type": "code",
   "execution_count": 28,
   "id": "ace08ba6",
   "metadata": {},
   "outputs": [
    {
     "data": {
      "text/plain": [
       "[<matplotlib.lines.Line2D at 0x7fd6a80ed8e0>]"
      ]
     },
     "execution_count": 28,
     "metadata": {},
     "output_type": "execute_result"
    },
    {
     "data": {
      "image/png": "[encoded data removed]",
      "text/plain": [
       "<Figure size 432x288 with 1 Axes>"
      ]
     },
     "metadata": {
      "needs_background": "light"
     },
     "output_type": "display_data"
    }
   ],
   "source": [
    "plt.figure()\n",
    "plt.plot(all_losses)"
   ]
  },
  {
   "cell_type": "code",
   "execution_count": 29,
   "id": "478b748d",
   "metadata": {},
   "outputs": [],
   "source": [
    "# confusion = torch.zeros(n_categories, n_categories)\n",
    "n_confusion = 10000"
   ]
  },
  {
   "cell_type": "code",
   "execution_count": 30,
   "id": "b303f5b8",
   "metadata": {},
   "outputs": [],
   "source": [
    "def evaluate(line_tensor):\n",
    "    hidden = rnn.initHidden()\n",
    "    \n",
    "    for i in range(line_tensor.size()[0]):\n",
    "        output, hidden = rnn(line_tensor[i], hidden)\n",
    "    return output"
   ]
  },
  {
   "cell_type": "code",
   "execution_count": 31,
   "id": "e7a58449",
   "metadata": {},
   "outputs": [
    {
     "name": "stderr",
     "output_type": "stream",
     "text": [
      "/Users/hezhi/hohoho/tmp/pytoch_demo/utils.py:67: UserWarning: FixedFormatter should only be used together with FixedLocator\n",
      "  ax.set_xticklabels([''] + all_categories, rotation=90)\n",
      "/Users/hezhi/hohoho/tmp/pytoch_demo/utils.py:68: UserWarning: FixedFormatter should only be used together with FixedLocator\n",
      "  ax.set_yticklabels([''] + all_categories)\n"
     ]
    },
    {
     "data": {
      "image/png": "[encoded data removed]",
      "text/plain": [
       "<Figure size 432x288 with 2 Axes>"
      ]
     },
     "metadata": {
      "needs_background": "light"
     },
     "output_type": "display_data"
    }
   ],
   "source": [
    "true_list = list()\n",
    "predict_list = list()\n",
    "\n",
    "for i in range(n_confusion):\n",
    "    category, line, catetory_tensor, line_tensor = randomTrainingExample()\n",
    "    output = evaluate(line_tensor)\n",
    "    guess, guess_i = categoryFromOutput(output, all_categories)\n",
    "    category_i = all_categories.index(category)\n",
    "    true_list.append(category_i)\n",
    "    predict_list.append(guess_i)\n",
    "#     confusion[category_i][guess_i] += 1\n",
    "    \n",
    "# for i in range(n_categories):\n",
    "#     confusion[i] = confusion[i] / confusion[i].sum()\n",
    "    \n",
    "# fig = plt.figure()\n",
    "# ax = fig.add_subplot(111)\n",
    "# cax = ax.matshow(confusion.numpy())\n",
    "# fig.colorbar(cax)\n",
    "\n",
    "# ax.set_xticklabels([''] + all_categories, rotation = 90)\n",
    "# ax.set_yticklabels([''] + all_categories)\n",
    "\n",
    "# ax.xaxis.set_major_locator(ticker.MultipleLocator(1))\n",
    "# ax.yaxis.set_major_locator(ticker.MultipleLocator(1))\n",
    "\n",
    "# plt.show()\n",
    "\n",
    "trues = torch.tensor(true_list)\n",
    "predicts = torch.tensor(predict_list)\n",
    "confustion_mat = plot_confusion_matrix(n_categories, trues, predicts, all_categories)"
   ]
  },
  {
   "cell_type": "code",
   "execution_count": null,
   "id": "edf71ef4",
   "metadata": {},
   "outputs": [],
   "source": []
  }
 ],
 "metadata": {
  "kernelspec": {
   "display_name": "Python 3 (ipykernel)",
   "language": "python",
   "name": "python3"
  },
  "language_info": {
   "codemirror_mode": {
    "name": "ipython",
    "version": 3
   },
   "file_extension": ".py",
   "mimetype": "text/x-python",
   "name": "python",
   "nbconvert_exporter": "python",
   "pygments_lexer": "ipython3",
   "version": "3.9.7"
  }
 },
 "nbformat": 4,
 "nbformat_minor": 5
}
