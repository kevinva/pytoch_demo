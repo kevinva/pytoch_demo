{
 "cells": [
  {
   "cell_type": "code",
   "execution_count": 1,
   "id": "a0185b09",
   "metadata": {},
   "outputs": [],
   "source": [
    "from __future__ import unicode_literals, print_function, division\n",
    "from io import open\n",
    "import unicodedata\n",
    "import string\n",
    "import re\n",
    "import random\n",
    "\n",
    "import torch\n",
    "import torch.nn as nn\n",
    "from torch import optim\n",
    "import torch.nn.functional as F\n"
   ]
  },
  {
   "cell_type": "code",
   "execution_count": 2,
   "id": "336d6921",
   "metadata": {},
   "outputs": [],
   "source": [
    "device = torch.device('cuda' if torch.cuda.is_available() else 'cpu')"
   ]
  },
  {
   "cell_type": "code",
   "execution_count": 3,
   "id": "25f8136b",
   "metadata": {},
   "outputs": [],
   "source": [
    "DEBUG_ON = False"
   ]
  },
  {
   "cell_type": "code",
   "execution_count": 4,
   "id": "1a2ac611",
   "metadata": {},
   "outputs": [],
   "source": [
    "SOS_token = 0\n",
    "EOS_token = 1\n",
    "\n",
    "class Lang:\n",
    "    \n",
    "    def __init__(self, name):\n",
    "        self.name = name\n",
    "        self.word2index = {}\n",
    "        self.word2count = {}\n",
    "        self.index2word = {0: 'SOS', 1: 'EOS'}\n",
    "        self.n_words = 2\n",
    "        \n",
    "    def addSentence(self, sentence):\n",
    "        for word in sentence.split(' '):\n",
    "            self.addWord(word)\n",
    "            \n",
    "    def addWord(self, word):\n",
    "        if word not in self.word2index:\n",
    "            self.word2index[word] = self.n_words\n",
    "            self.word2count[word] = 1\n",
    "            self.index2word[self.n_words] = word\n",
    "            self.n_words += 1\n",
    "        else:\n",
    "            self.word2count[word] += 1"
   ]
  },
  {
   "cell_type": "code",
   "execution_count": 5,
   "id": "75b038c1",
   "metadata": {},
   "outputs": [],
   "source": [
    "def unicodeToAscii(s):\n",
    "    return ''.join(\n",
    "        c for c in unicodedata.normalize('NFD', s)\n",
    "        if unicodedata.category(c) != 'Mn'\n",
    "    )"
   ]
  },
  {
   "cell_type": "code",
   "execution_count": 6,
   "id": "3d88ccec",
   "metadata": {},
   "outputs": [],
   "source": [
    "def normalizeString(s):\n",
    "    s = unicodeToAscii(s.lower().strip())\n",
    "    s = re.sub(r\"([.!?])\", r\" \\1\", s)\n",
    "    s = re.sub(r\"[^a-zA-Z.!?]+\", r\" \", s)\n",
    "    return s"
   ]
  },
  {
   "cell_type": "code",
   "execution_count": 7,
   "id": "dad21af9",
   "metadata": {},
   "outputs": [],
   "source": [
    "def readLangs(lang1, lang2, reverse=False):\n",
    "    print('Reading lines...')\n",
    "    \n",
    "    lines = open('data/data/{}-{}.txt'.format(lang1, lang2), encoding='utf-8').read().strip().split('\\n')\n",
    "    pairs = [[normalizeString(s) for s in l.split('\\t')] for l in lines]\n",
    "    \n",
    "    if reverse:\n",
    "        pairs = [list(reversed(p)) for p in pairs]\n",
    "        input_lang = Lang(lang2)\n",
    "        output_lang = Lang(lang1)\n",
    "    else:\n",
    "        input_lang = Lang(lang1)\n",
    "        output_lang = Lang(lang2)\n",
    "    \n",
    "    return input_lang, output_lang, pairs"
   ]
  },
  {
   "cell_type": "code",
   "execution_count": 8,
   "id": "6280b457",
   "metadata": {},
   "outputs": [],
   "source": [
    "MAX_LENGTH = 10\n",
    "\n",
    "eng_prefixes = (\n",
    "    \"i am \", \"i m \",\n",
    "    \"he is\", \"he s \",\n",
    "    \"she is\", \"she s \",\n",
    "    \"you are\", \"you re \",\n",
    "    \"we are\", \"we re \",\n",
    "    \"they are\", \"they re \"\n",
    ")\n",
    "\n",
    "def filterPair(p):\n",
    "    return len(p[0].split(' ')) < MAX_LENGTH and \\\n",
    "           len(p[1].split(' ')) < MAX_LENGTH and \\\n",
    "           p[1].startswith(eng_prefixes)\n",
    "\n",
    "def filterPairs(pairs):\n",
    "    return [pair for pair in pairs if filterPair(pair)]"
   ]
  },
  {
   "cell_type": "code",
   "execution_count": 9,
   "id": "331773a6",
   "metadata": {},
   "outputs": [],
   "source": [
    "def prepareData(lang1, lang2, reverse=False):\n",
    "    input_lang, output_lang, pairs = readLangs(lang1, lang2, reverse)\n",
    "    print('Read {} sentence paris'.format(len(pairs)))\n",
    "    pairs = filterPairs(pairs)\n",
    "    print('Trimmed to {} sentence pairs'.format(len(pairs)))\n",
    "    print('Counting words...')\n",
    "    for pair in pairs:\n",
    "        input_lang.addSentence(pair[0])\n",
    "        output_lang.addSentence(pair[1])\n",
    "    print('Counted words: ')\n",
    "    print(input_lang.name, input_lang.n_words)\n",
    "    print(output_lang.name, output_lang.n_words)\n",
    "    return input_lang, output_lang, pairs"
   ]
  },
  {
   "cell_type": "code",
   "execution_count": 10,
   "id": "904aaf81",
   "metadata": {},
   "outputs": [
    {
     "name": "stdout",
     "output_type": "stream",
     "text": [
      "Reading lines...\n",
      "Read 135842 sentence paris\n",
      "Trimmed to 10599 sentence pairs\n",
      "Counting words...\n",
      "Counted words: \n",
      "fra 4345\n",
      "eng 2803\n",
      "['j achete des fruits et du chocolat .', 'i m buying fruit and chocolate .']\n"
     ]
    }
   ],
   "source": [
    "input_lang, output_lang, pairs = prepareData('eng', 'fra', True)\n",
    "print(random.choice(pairs))"
   ]
  },
  {
   "cell_type": "code",
   "execution_count": 11,
   "id": "7ec6c361",
   "metadata": {},
   "outputs": [],
   "source": [
    "class EncoderRNN(nn.Module):\n",
    "    \n",
    "    def __init__(self, input_size, hidden_size):\n",
    "        super(EncoderRNN, self).__init__()\n",
    "        self.hidden_size = hidden_size\n",
    "\n",
    "        self.embedding = nn.Embedding(input_size, hidden_size)\n",
    "        self.gru = nn.GRU(hidden_size, hidden_size)\n",
    "        \n",
    "    def forward(self, input, hidden):\n",
    "        if DEBUG_ON:\n",
    "            print(f'encoder intput: {input}')\n",
    "            print(f'just self.embedding(input): {self.embedding(input)}')\n",
    "        embedded = self.embedding(input).view(1, 1, -1)\n",
    "        if DEBUG_ON:\n",
    "            print(f'embedded: {embedded}')\n",
    "            \n",
    "        output = embedded\n",
    "        output, hidden = self.gru(output, hidden)\n",
    "        \n",
    "        if DEBUG_ON:\n",
    "            print(f'output: {output}, \\nhidden: {hidden}')\n",
    "        return output, hidden\n",
    "    \n",
    "    def initHidden(self):\n",
    "        return torch.zeros(1, 1, self.hidden_size, device=device)\n"
   ]
  },
  {
   "cell_type": "code",
   "execution_count": 12,
   "id": "5c08b89c",
   "metadata": {},
   "outputs": [],
   "source": [
    "class AttnDecoderRNN(nn.Module):\n",
    "    \n",
    "    def __init__(self, hidden_size, output_size, dropout_p=0.1, max_length=MAX_LENGTH):\n",
    "        super(AttnDecoderRNN, self).__init__()\n",
    "        self.hidden_size = hidden_size\n",
    "        self.output_size = output_size\n",
    "        self.dropout_p = dropout_p\n",
    "        self.max_length = max_length\n",
    "        \n",
    "        self.embedding = nn.Embedding(self.output_size, self.hidden_size)\n",
    "        self.attn = nn.Linear(self.hidden_size * 2, self.max_length)\n",
    "        self.attn_combine = nn.Linear(self.hidden_size * 2, self.hidden_size)\n",
    "        self.dropout = nn.Dropout(self.dropout_p)\n",
    "        self.gru = nn.GRU(self.hidden_size, self.hidden_size)\n",
    "        self.out = nn.Linear(self.hidden_size, self.output_size)\n",
    "        \n",
    "    def forward(self, input, hidden, encoder_outputs):\n",
    "        if DEBUG_ON:\n",
    "            print(f'decoder input: {input}')\n",
    "            print(f'hidden: {hidden}')\n",
    "            print(f'encoder_outputs: {encoder_outputs}')\n",
    "            print(f'just self.embedding(input): {self.embedding(input)}')\n",
    "        embedded = self.embedding(input).view(1, 1, -1)\n",
    "        if DEBUG_ON:\n",
    "            print(f'embedded: {embedded}')\n",
    "        embedded = self.dropout(embedded)\n",
    "        if DEBUG_ON:\n",
    "            print(f'embed dropout: {embedded}')\n",
    "            print(f'torch.cat((embedded[0], hidden[0]), 1): {torch.cat((embedded[0], hidden[0]), 1)}')\n",
    "            \n",
    "        attn_weights = F.softmax(self.attn(torch.cat((embedded[0], hidden[0]), 1)), dim=1)\n",
    "        attn_applied = torch.bmm(attn_weights.unsqueeze(0),\n",
    "                                 encoder_outputs.unsqueeze(0))\n",
    "        if DEBUG_ON:\n",
    "            print(f'attn_weights: {attn_weights}, \\nattn_applied: {attn_applied}')\n",
    "        \n",
    "        output = torch.cat((embedded[0], attn_applied[0]), 1)\n",
    "        if DEBUG_ON:\n",
    "            print(f'out1: {output}')\n",
    "        output = self.attn_combine(output).unsqueeze(0)\n",
    "        if DEBUG_ON:\n",
    "            print(f'out2: {output}')\n",
    "        \n",
    "        output = F.relu(output)\n",
    "        output, hidden = self.gru(output, hidden)\n",
    "        if DEBUG_ON:\n",
    "            print(f'out3: {output}')\n",
    "        \n",
    "        output = F.log_softmax(self.out(output[0]), dim=1)\n",
    "        return output, hidden, attn_weights\n",
    "    \n",
    "    def initHidden(self):\n",
    "        return torch.zeros(1, 1, self.hidden_size, device=device)\n",
    "    "
   ]
  },
  {
   "cell_type": "code",
   "execution_count": 13,
   "id": "f70d2cfd",
   "metadata": {},
   "outputs": [],
   "source": [
    "def indexesFromSentence(lang, sentence):\n",
    "    return [lang.word2index[word] for word in sentence.split(' ')]\n",
    "\n",
    "def tensorFromSentence(lang, sentence):\n",
    "    indexes = indexesFromSentence(lang, sentence)\n",
    "    indexes.append(EOS_token)\n",
    "    return torch.tensor(indexes, dtype=torch.long, device=device).view(-1, 1)\n",
    "\n",
    "\n",
    "def tensorsFromPair(pair):\n",
    "    input_tensor = tensorFromSentence(input_lang, pair[0])\n",
    "    target_tensor = tensorFromSentence(output_lang, pair[1])\n",
    "    return (input_tensor, target_tensor)"
   ]
  },
  {
   "cell_type": "code",
   "execution_count": 14,
   "id": "7035603a",
   "metadata": {},
   "outputs": [],
   "source": [
    "teacher_forcing_ratio = 0.5\n",
    "\n",
    "def train(input_tensor, target_tensor, encoder, decoder, encoder_optimizer, decoder_optimizer, criterion, max_length=MAX_LENGTH):\n",
    "    encoder_hidden = encoder.initHidden()\n",
    "    \n",
    "    encoder_optimizer.zero_grad()\n",
    "    decoder_optimizer.zero_grad()\n",
    "    \n",
    "    input_length = input_tensor.size(0)\n",
    "    target_length = target_tensor.size(0)\n",
    "    \n",
    "    encoder_outputs = torch.zeros(max_length, encoder.hidden_size, device=device)\n",
    "    \n",
    "    loss = 0\n",
    "    \n",
    "    for ei in range(input_length):\n",
    "        encoder_output, encoder_hidden = encoder(input_tensor[ei], encoder_hidden)\n",
    "        encoder_outputs[ei] = encoder_output[0, 0]\n",
    "        \n",
    "    decoder_input = torch.tensor([[SOS_token]], device=device)\n",
    "    decoder_hidden = encoder_hidden\n",
    "    \n",
    "    use_teacher_forcing = True if random.random() < teacher_forcing_ratio else False\n",
    "    \n",
    "    if use_teacher_forcing:\n",
    "        for di in range(target_length):\n",
    "            decoder_output, decoder_hidden, decoder_attention = decoder(decoder_input, decoder_hidden, encoder_outputs)\n",
    "            loss += criterion(decoder_output, target_tensor[di])\n",
    "            if DEBUG_ON:\n",
    "                print(f'decoder_output: {decoder_output}, \\ntarget_tensor: {target_tensor[di]}')\n",
    "                \n",
    "            decoder_input = target_tensor[di]\n",
    "    else:\n",
    "        for di in range(target_length):\n",
    "            decoder_output, decoder_hidden, decoder_attention = decoder(decoder_input, decoder_hidden, encoder_outputs)\n",
    "            topv, topi = decoder_output.topk(1)\n",
    "            decoder_input = topi.squeeze().detach()\n",
    "            \n",
    "            loss += criterion(decoder_output, target_tensor[di])\n",
    "            if decoder_input.item() == EOS_token:\n",
    "                break\n",
    "                \n",
    "    loss.backward()\n",
    "    \n",
    "    encoder_optimizer.step()\n",
    "    decoder_optimizer.step()\n",
    "    \n",
    "    return loss.item() / target_length"
   ]
  },
  {
   "cell_type": "code",
   "execution_count": 15,
   "id": "7628de80",
   "metadata": {},
   "outputs": [],
   "source": [
    "import time\n",
    "import math\n",
    "\n",
    "\n",
    "def asMinutes(s):\n",
    "    m = math.floor(s / 60)\n",
    "    s -= m * 60\n",
    "    return '%dm %ds' % (m, s)\n",
    "\n",
    "\n",
    "def timeSince(since, percent):\n",
    "    now = time.time()\n",
    "    s = now - since\n",
    "    es = s / (percent)\n",
    "    rs = es - s\n",
    "    return '%s (- %s)' % (asMinutes(s), asMinutes(rs))"
   ]
  },
  {
   "cell_type": "code",
   "execution_count": 16,
   "id": "62c2a8e1",
   "metadata": {},
   "outputs": [],
   "source": [
    "def trainIters(encoder, decoder, n_iters, print_every=1000, plot_every=100, learning_rate=0.01):\n",
    "    start = time.time()\n",
    "    plot_losses = []\n",
    "    print_loss_total = 0\n",
    "    plot_loss_total = 0\n",
    "    \n",
    "    encoder_optimizer = optim.SGD(encoder.parameters(), lr=learning_rate)\n",
    "    decoder_optimizer = optim.SGD(decoder.parameters(), lr=learning_rate)\n",
    "    training_pairs = [tensorsFromPair(random.choice(pairs)) for i in range(n_iters)]\n",
    "    criterion = nn.NLLLoss()\n",
    "    \n",
    "    for iter in range(1, n_iters + 1):\n",
    "        training_pair = training_pairs[iter - 1]\n",
    "        input_tensor = training_pair[0]\n",
    "        target_tensor = training_pair[1]\n",
    "        \n",
    "        if DEBUG_ON:\n",
    "            print(f'input_tensor: {input_tensor}, \\ntarget_tensor: {target_tensor}')\n",
    "        \n",
    "        loss = train(input_tensor, target_tensor, encoder, decoder, encoder_optimizer, decoder_optimizer, criterion)\n",
    "        print_loss_total += loss\n",
    "        plot_loss_total += loss\n",
    "        \n",
    "        if iter % print_every == 0:\n",
    "            print_loss_avg = print_loss_total / print_every\n",
    "            print_loss_total = 0\n",
    "            \n",
    "            print('{} ({} {}%) {:.4f}'.format(timeSince(start, iter / n_iters), iter, iter / n_iters * 100, print_loss_avg))\n",
    "        \n",
    "        if iter % plot_every == 0:\n",
    "            plot_loss_avg = plot_loss_total / plot_every\n",
    "            plot_losses.append(plot_loss_avg)\n",
    "            plot_loss_total = 0\n",
    "        \n",
    "        if DEBUG_ON:\n",
    "            break\n",
    "            \n",
    "    showPlot(plot_losses)"
   ]
  },
  {
   "cell_type": "code",
   "execution_count": 17,
   "id": "fbf0c5f4",
   "metadata": {},
   "outputs": [],
   "source": [
    "import matplotlib.pyplot as plt\n",
    "plt.switch_backend('agg')\n",
    "import matplotlib.ticker as ticker\n",
    "import numpy as np\n",
    "\n",
    "\n",
    "def showPlot(points):\n",
    "    plt.figure()\n",
    "    fig, ax = plt.subplots()\n",
    "    # this locator puts ticks at regular intervals\n",
    "    loc = ticker.MultipleLocator(base=0.2)\n",
    "    ax.yaxis.set_major_locator(loc)\n",
    "    plt.plot(points)"
   ]
  },
  {
   "cell_type": "code",
   "execution_count": 18,
   "id": "f6f18aba",
   "metadata": {},
   "outputs": [],
   "source": [
    "def evaluate(encoder, decoder, sentence, max_length=MAX_LENGTH):\n",
    "    with torch.no_grad():\n",
    "        input_tensor = tensorFromSentence(input_lang, sentence)\n",
    "        input_length = input_tensor.size()[0]\n",
    "        encoder_hidden = encoder.initHidden()\n",
    "\n",
    "        encoder_outputs = torch.zeros(max_length, encoder.hidden_size, device=device)\n",
    "\n",
    "        for ei in range(input_length):\n",
    "            encoder_output, encoder_hidden = encoder(input_tensor[ei],\n",
    "                                                     encoder_hidden)\n",
    "            encoder_outputs[ei] += encoder_output[0, 0]\n",
    "\n",
    "        decoder_input = torch.tensor([[SOS_token]], device=device)  # SOS\n",
    "\n",
    "        decoder_hidden = encoder_hidden\n",
    "\n",
    "        decoded_words = []\n",
    "        decoder_attentions = torch.zeros(max_length, max_length)\n",
    "\n",
    "        for di in range(max_length):\n",
    "            decoder_output, decoder_hidden, decoder_attention = decoder(\n",
    "                decoder_input, decoder_hidden, encoder_outputs)\n",
    "            decoder_attentions[di] = decoder_attention.data\n",
    "            topv, topi = decoder_output.data.topk(1)\n",
    "            if topi.item() == EOS_token:\n",
    "                decoded_words.append('<EOS>')\n",
    "                break\n",
    "            else:\n",
    "                decoded_words.append(output_lang.index2word[topi.item()])\n",
    "\n",
    "            decoder_input = topi.squeeze().detach()\n",
    "\n",
    "        return decoded_words, decoder_attentions[:di + 1]"
   ]
  },
  {
   "cell_type": "code",
   "execution_count": 19,
   "id": "8f602376",
   "metadata": {},
   "outputs": [],
   "source": [
    "def evaluateRandomly(encoder, decoder, n=10):\n",
    "    for i in range(n):\n",
    "        pair = random.choice(pairs)\n",
    "        print('>', pair[0])\n",
    "        print('=', pair[1])\n",
    "        output_words, attentions = evaluate(encoder, decoder, pair[0])\n",
    "        output_sentence = ' '.join(output_words)\n",
    "        print('<', output_sentence)\n",
    "        print('')"
   ]
  },
  {
   "cell_type": "code",
   "execution_count": 20,
   "id": "fde492a5",
   "metadata": {},
   "outputs": [
    {
     "name": "stdout",
     "output_type": "stream",
     "text": [
      "0m 2s (- 3m 45s) (100 1.0%) 4.2071\n",
      "0m 4s (- 3m 36s) (200 2.0%) 3.5506\n",
      "0m 6s (- 3m 36s) (300 3.0%) 3.5192\n",
      "0m 8s (- 3m 34s) (400 4.0%) 3.3461\n",
      "0m 11s (- 3m 33s) (500 5.0%) 3.4071\n",
      "0m 13s (- 3m 33s) (600 6.0%) 3.3828\n",
      "0m 15s (- 3m 32s) (700 7.000000000000001%) 3.3573\n",
      "0m 18s (- 3m 29s) (800 8.0%) 3.2379\n",
      "0m 20s (- 3m 28s) (900 9.0%) 3.3648\n",
      "0m 22s (- 3m 25s) (1000 10.0%) 3.1913\n",
      "0m 25s (- 3m 22s) (1100 11.0%) 3.2049\n",
      "0m 27s (- 3m 20s) (1200 12.0%) 3.1027\n",
      "0m 29s (- 3m 18s) (1300 13.0%) 3.0602\n",
      "0m 31s (- 3m 16s) (1400 14.000000000000002%) 2.9864\n",
      "0m 34s (- 3m 14s) (1500 15.0%) 2.9081\n",
      "0m 36s (- 3m 12s) (1600 16.0%) 2.8221\n",
      "0m 38s (- 3m 9s) (1700 17.0%) 2.9440\n",
      "0m 41s (- 3m 7s) (1800 18.0%) 3.0616\n",
      "0m 43s (- 3m 5s) (1900 19.0%) 2.7613\n",
      "0m 45s (- 3m 3s) (2000 20.0%) 2.8379\n",
      "0m 48s (- 3m 1s) (2100 21.0%) 2.9855\n",
      "0m 50s (- 2m 59s) (2200 22.0%) 2.5942\n",
      "0m 52s (- 2m 57s) (2300 23.0%) 2.9877\n",
      "0m 55s (- 2m 54s) (2400 24.0%) 2.7564\n",
      "0m 57s (- 2m 52s) (2500 25.0%) 2.8943\n",
      "0m 59s (- 2m 50s) (2600 26.0%) 2.6499\n",
      "1m 2s (- 2m 47s) (2700 27.0%) 2.7245\n",
      "1m 4s (- 2m 45s) (2800 28.000000000000004%) 2.7459\n",
      "1m 6s (- 2m 43s) (2900 28.999999999999996%) 2.6266\n",
      "1m 8s (- 2m 40s) (3000 30.0%) 2.6862\n",
      "1m 11s (- 2m 38s) (3100 31.0%) 2.7606\n",
      "1m 13s (- 2m 36s) (3200 32.0%) 2.7324\n",
      "1m 15s (- 2m 33s) (3300 33.0%) 2.5945\n",
      "1m 18s (- 2m 31s) (3400 34.0%) 2.6309\n",
      "1m 20s (- 2m 29s) (3500 35.0%) 2.6411\n",
      "1m 22s (- 2m 27s) (3600 36.0%) 2.6391\n",
      "1m 25s (- 2m 24s) (3700 37.0%) 2.4217\n",
      "1m 27s (- 2m 22s) (3800 38.0%) 2.6425\n",
      "1m 29s (- 2m 20s) (3900 39.0%) 2.6240\n",
      "1m 31s (- 2m 17s) (4000 40.0%) 2.5313\n",
      "1m 34s (- 2m 15s) (4100 41.0%) 2.6553\n",
      "1m 36s (- 2m 13s) (4200 42.0%) 2.4933\n",
      "1m 38s (- 2m 10s) (4300 43.0%) 2.5132\n",
      "1m 40s (- 2m 8s) (4400 44.0%) 2.4531\n",
      "1m 43s (- 2m 6s) (4500 45.0%) 2.5207\n",
      "1m 45s (- 2m 3s) (4600 46.0%) 2.4449\n",
      "1m 47s (- 2m 1s) (4700 47.0%) 2.3485\n",
      "1m 50s (- 1m 59s) (4800 48.0%) 2.5521\n",
      "1m 52s (- 1m 57s) (4900 49.0%) 2.5971\n",
      "1m 54s (- 1m 54s) (5000 50.0%) 2.4437\n",
      "1m 56s (- 1m 52s) (5100 51.0%) 2.3304\n",
      "1m 59s (- 1m 50s) (5200 52.0%) 2.3350\n",
      "2m 1s (- 1m 47s) (5300 53.0%) 2.5214\n",
      "2m 3s (- 1m 45s) (5400 54.0%) 2.3030\n",
      "2m 6s (- 1m 43s) (5500 55.00000000000001%) 2.3162\n",
      "2m 8s (- 1m 40s) (5600 56.00000000000001%) 2.4929\n",
      "2m 10s (- 1m 38s) (5700 56.99999999999999%) 2.3021\n",
      "2m 12s (- 1m 36s) (5800 57.99999999999999%) 2.4783\n",
      "2m 15s (- 1m 33s) (5900 59.0%) 2.3801\n",
      "2m 17s (- 1m 31s) (6000 60.0%) 2.5005\n",
      "2m 19s (- 1m 29s) (6100 61.0%) 2.2445\n",
      "2m 21s (- 1m 27s) (6200 62.0%) 2.3149\n",
      "2m 24s (- 1m 24s) (6300 63.0%) 2.4366\n",
      "2m 26s (- 1m 22s) (6400 64.0%) 2.4102\n",
      "2m 28s (- 1m 20s) (6500 65.0%) 2.2924\n",
      "2m 31s (- 1m 17s) (6600 66.0%) 2.3417\n",
      "2m 33s (- 1m 15s) (6700 67.0%) 2.3915\n",
      "2m 35s (- 1m 13s) (6800 68.0%) 2.3706\n",
      "2m 37s (- 1m 10s) (6900 69.0%) 2.2941\n",
      "2m 40s (- 1m 8s) (7000 70.0%) 2.4188\n",
      "2m 42s (- 1m 6s) (7100 71.0%) 2.1949\n",
      "2m 44s (- 1m 4s) (7200 72.0%) 2.2791\n",
      "2m 47s (- 1m 1s) (7300 73.0%) 2.4414\n",
      "2m 49s (- 0m 59s) (7400 74.0%) 2.0109\n",
      "2m 51s (- 0m 57s) (7500 75.0%) 2.4362\n",
      "2m 54s (- 0m 55s) (7600 76.0%) 2.0877\n",
      "2m 56s (- 0m 52s) (7700 77.0%) 2.3505\n",
      "2m 58s (- 0m 50s) (7800 78.0%) 2.1566\n",
      "3m 1s (- 0m 48s) (7900 79.0%) 2.2480\n",
      "3m 3s (- 0m 45s) (8000 80.0%) 2.1422\n",
      "3m 5s (- 0m 43s) (8100 81.0%) 2.0948\n",
      "3m 8s (- 0m 41s) (8200 82.0%) 2.2202\n",
      "3m 10s (- 0m 38s) (8300 83.0%) 2.0883\n",
      "3m 12s (- 0m 36s) (8400 84.0%) 2.0983\n",
      "3m 14s (- 0m 34s) (8500 85.0%) 2.3401\n",
      "3m 17s (- 0m 32s) (8600 86.0%) 2.3612\n",
      "3m 19s (- 0m 29s) (8700 87.0%) 2.4391\n",
      "3m 21s (- 0m 27s) (8800 88.0%) 2.0621\n",
      "3m 24s (- 0m 25s) (8900 89.0%) 2.1797\n",
      "3m 26s (- 0m 22s) (9000 90.0%) 2.2671\n",
      "3m 28s (- 0m 20s) (9100 91.0%) 2.2003\n",
      "3m 31s (- 0m 18s) (9200 92.0%) 2.1696\n",
      "3m 33s (- 0m 16s) (9300 93.0%) 2.2680\n",
      "3m 35s (- 0m 13s) (9400 94.0%) 2.1450\n",
      "3m 38s (- 0m 11s) (9500 95.0%) 2.2675\n",
      "3m 40s (- 0m 9s) (9600 96.0%) 2.1878\n",
      "3m 42s (- 0m 6s) (9700 97.0%) 2.0077\n",
      "3m 44s (- 0m 4s) (9800 98.0%) 2.0354\n",
      "3m 47s (- 0m 2s) (9900 99.0%) 1.8293\n",
      "3m 49s (- 0m 0s) (10000 100.0%) 2.0472\n"
     ]
    }
   ],
   "source": [
    "if DEBUG_ON:\n",
    "    hidden_size = 6\n",
    "else:\n",
    "    hidden_size = 256\n",
    "\n",
    "encoder1 = EncoderRNN(input_lang.n_words, hidden_size).to(device)\n",
    "attn_decoder1 = AttnDecoderRNN(hidden_size, output_lang.n_words, dropout_p=0.1).to(device)\n",
    "\n",
    "# print(input_lang.n_words, output_lang.n_words)\n",
    "trainIters(encoder1, attn_decoder1, 10000, print_every=100)"
   ]
  },
  {
   "cell_type": "code",
   "execution_count": 21,
   "id": "773f3128",
   "metadata": {},
   "outputs": [
    {
     "name": "stdout",
     "output_type": "stream",
     "text": [
      "> je ne suis pas embarrasse .\n",
      "= i m not embarrassed .\n",
      "< i m not certain . <EOS>\n",
      "\n",
      "> tu prevois toujours des problemes .\n",
      "= you re always anticipating trouble .\n",
      "< you re going to my . . <EOS>\n",
      "\n",
      "> la moisson s annonce bonne cette annee .\n",
      "= we re expecting a good harvest this year .\n",
      "< i m a good at the . . <EOS>\n",
      "\n",
      "> je suis trop fatigue pour courir .\n",
      "= i am too tired to run .\n",
      "< i m too tired to my . . <EOS>\n",
      "\n",
      "> elle est de mauvaise humeur .\n",
      "= she is in a bad mood .\n",
      "< she is a good . . <EOS>\n",
      "\n",
      "> nous sommes separes .\n",
      "= we re separated .\n",
      "< we re early . <EOS>\n",
      "\n",
      "> elles sont trop grosses .\n",
      "= they re too fat .\n",
      "< they re too . . <EOS>\n",
      "\n",
      "> il projette de lancer son entreprise .\n",
      "= he is planning to launch his business .\n",
      "< he is afraid of my job . <EOS>\n",
      "\n",
      "> je commence a sentir que quelque chose deconne .\n",
      "= i m beginning to smell a rat .\n",
      "< i m afraid i am . <EOS>\n",
      "\n",
      "> elles sont juste pour toi .\n",
      "= they re just for you .\n",
      "< they re about you . <EOS>\n",
      "\n"
     ]
    }
   ],
   "source": [
    "evaluateRandomly(encoder1, attn_decoder1)"
   ]
  },
  {
   "cell_type": "code",
   "execution_count": 23,
   "id": "48454955",
   "metadata": {},
   "outputs": [
    {
     "data": {
      "text/plain": [
       "<matplotlib.image.AxesImage at 0x7fb2daa9fd90>"
      ]
     },
     "execution_count": 23,
     "metadata": {},
     "output_type": "execute_result"
    },
    {
     "data": {
      "image/png": "[encoded data removed]",
      "text/plain": [
       "<Figure size 480x288 with 1 Axes>"
      ]
     },
     "metadata": {
      "needs_background": "light"
     },
     "output_type": "display_data"
    }
   ],
   "source": [
    "%matplotlib inline\n",
    "\n",
    "output_words, attentions = evaluate(\n",
    "    encoder1, attn_decoder1, \"je suis trop froid .\")\n",
    "plt.matshow(attentions.numpy())\n"
   ]
  },
  {
   "cell_type": "code",
   "execution_count": 24,
   "id": "69e4964b",
   "metadata": {},
   "outputs": [
    {
     "name": "stdout",
     "output_type": "stream",
     "text": [
      "input = elle a cinq ans de moins que moi .\n",
      "output = she is always years than i am . <EOS>\n"
     ]
    },
    {
     "name": "stderr",
     "output_type": "stream",
     "text": [
      "/var/folders/g2/jy_8z3fs28526pxbf3l1gbdm0000gn/T/ipykernel_10580/744067545.py:9: UserWarning: FixedFormatter should only be used together with FixedLocator\n",
      "  ax.set_xticklabels([''] + input_sentence.split(' ') +\n",
      "/var/folders/g2/jy_8z3fs28526pxbf3l1gbdm0000gn/T/ipykernel_10580/744067545.py:11: UserWarning: FixedFormatter should only be used together with FixedLocator\n",
      "  ax.set_yticklabels([''] + output_words)\n"
     ]
    },
    {
     "data": {
      "image/png": "[encoded data removed]",
      "text/plain": [
       "<Figure size 432x288 with 2 Axes>"
      ]
     },
     "metadata": {
      "needs_background": "light"
     },
     "output_type": "display_data"
    },
    {
     "name": "stdout",
     "output_type": "stream",
     "text": [
      "input = elle est trop petit .\n",
      "output = she is too busy . <EOS>\n"
     ]
    },
    {
     "data": {
      "image/png": "[encoded data removed]",
      "text/plain": [
       "<Figure size 432x288 with 2 Axes>"
      ]
     },
     "metadata": {
      "needs_background": "light"
     },
     "output_type": "display_data"
    },
    {
     "name": "stdout",
     "output_type": "stream",
     "text": [
      "input = je ne crains pas de mourir .\n",
      "output = i m not going to <EOS>\n"
     ]
    },
    {
     "data": {
      "image/png": "[encoded data removed]",
      "text/plain": [
       "<Figure size 432x288 with 2 Axes>"
      ]
     },
     "metadata": {
      "needs_background": "light"
     },
     "output_type": "display_data"
    },
    {
     "name": "stdout",
     "output_type": "stream",
     "text": [
      "input = c est un jeune directeur plein de talent .\n",
      "output = he is a good man . <EOS>\n"
     ]
    },
    {
     "data": {
      "image/png": "[encoded data removed]",
      "text/plain": [
       "<Figure size 432x288 with 2 Axes>"
      ]
     },
     "metadata": {
      "needs_background": "light"
     },
     "output_type": "display_data"
    }
   ],
   "source": [
    "def showAttention(input_sentence, output_words, attentions):\n",
    "    # Set up figure with colorbar\n",
    "    fig = plt.figure()\n",
    "    ax = fig.add_subplot(111)\n",
    "    cax = ax.matshow(attentions.numpy(), cmap='bone')\n",
    "    fig.colorbar(cax)\n",
    "\n",
    "    # Set up axes\n",
    "    ax.set_xticklabels([''] + input_sentence.split(' ') +\n",
    "                       ['<EOS>'], rotation=90)\n",
    "    ax.set_yticklabels([''] + output_words)\n",
    "\n",
    "    # Show label at every tick\n",
    "    ax.xaxis.set_major_locator(ticker.MultipleLocator(1))\n",
    "    ax.yaxis.set_major_locator(ticker.MultipleLocator(1))\n",
    "\n",
    "    plt.show()\n",
    "\n",
    "\n",
    "def evaluateAndShowAttention(input_sentence):\n",
    "    output_words, attentions = evaluate(\n",
    "        encoder1, attn_decoder1, input_sentence)\n",
    "    print('input =', input_sentence)\n",
    "    print('output =', ' '.join(output_words))\n",
    "    showAttention(input_sentence, output_words, attentions)\n",
    "\n",
    "\n",
    "evaluateAndShowAttention(\"elle a cinq ans de moins que moi .\")\n",
    "\n",
    "evaluateAndShowAttention(\"elle est trop petit .\")\n",
    "\n",
    "evaluateAndShowAttention(\"je ne crains pas de mourir .\")\n",
    "\n",
    "evaluateAndShowAttention(\"c est un jeune directeur plein de talent .\")"
   ]
  },
  {
   "cell_type": "code",
   "execution_count": null,
   "id": "d3b35abb",
   "metadata": {},
   "outputs": [],
   "source": []
  }
 ],
 "metadata": {
  "kernelspec": {
   "display_name": "Python 3 (ipykernel)",
   "language": "python",
   "name": "python3"
  },
  "language_info": {
   "codemirror_mode": {
    "name": "ipython",
    "version": 3
   },
   "file_extension": ".py",
   "mimetype": "text/x-python",
   "name": "python",
   "nbconvert_exporter": "python",
   "pygments_lexer": "ipython3",
   "version": "3.9.7"
  }
 },
 "nbformat": 4,
 "nbformat_minor": 5
}
